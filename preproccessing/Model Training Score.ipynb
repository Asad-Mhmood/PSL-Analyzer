{
 "cells": [
  {
   "cell_type": "code",
   "execution_count": 1,
   "id": "820db986",
   "metadata": {},
   "outputs": [],
   "source": [
    "import pandas as pd\n",
    "import numpy as np\n",
    "import seaborn as sns\n",
    "import sklearn"
   ]
  },
  {
   "cell_type": "code",
   "execution_count": 2,
   "id": "648a9248",
   "metadata": {},
   "outputs": [],
   "source": [
    "df=pd.read_csv('finalPSL.csv')"
   ]
  },
  {
   "cell_type": "code",
   "execution_count": 3,
   "id": "9d02985c",
   "metadata": {},
   "outputs": [
    {
     "data": {
      "text/html": [
       "<div>\n",
       "<style scoped>\n",
       "    .dataframe tbody tr th:only-of-type {\n",
       "        vertical-align: middle;\n",
       "    }\n",
       "\n",
       "    .dataframe tbody tr th {\n",
       "        vertical-align: top;\n",
       "    }\n",
       "\n",
       "    .dataframe thead th {\n",
       "        text-align: right;\n",
       "    }\n",
       "</style>\n",
       "<table border=\"1\" class=\"dataframe\">\n",
       "  <thead>\n",
       "    <tr style=\"text-align: right;\">\n",
       "      <th></th>\n",
       "      <th>team_1</th>\n",
       "      <th>team_2</th>\n",
       "      <th>total_runs</th>\n",
       "      <th>wickets_left</th>\n",
       "      <th>balls_left</th>\n",
       "      <th>crr</th>\n",
       "      <th>last_five</th>\n",
       "      <th>Target</th>\n",
       "    </tr>\n",
       "  </thead>\n",
       "  <tbody>\n",
       "    <tr>\n",
       "      <th>0</th>\n",
       "      <td>Quetta Gladiators</td>\n",
       "      <td>Islamabad United</td>\n",
       "      <td>27</td>\n",
       "      <td>8</td>\n",
       "      <td>100</td>\n",
       "      <td>6.230769</td>\n",
       "      <td>26.0</td>\n",
       "      <td>156</td>\n",
       "    </tr>\n",
       "    <tr>\n",
       "      <th>1</th>\n",
       "      <td>Lahore Qalandars</td>\n",
       "      <td>Quetta Gladiators</td>\n",
       "      <td>12</td>\n",
       "      <td>10</td>\n",
       "      <td>108</td>\n",
       "      <td>4.000000</td>\n",
       "      <td>30.0</td>\n",
       "      <td>209</td>\n",
       "    </tr>\n",
       "    <tr>\n",
       "      <th>2</th>\n",
       "      <td>Multan Sultans</td>\n",
       "      <td>Lahore Qalandars</td>\n",
       "      <td>1</td>\n",
       "      <td>10</td>\n",
       "      <td>116</td>\n",
       "      <td>0.600000</td>\n",
       "      <td>41.0</td>\n",
       "      <td>200</td>\n",
       "    </tr>\n",
       "    <tr>\n",
       "      <th>3</th>\n",
       "      <td>Lahore Qalandars</td>\n",
       "      <td>Peshawar Zalmi</td>\n",
       "      <td>92</td>\n",
       "      <td>8</td>\n",
       "      <td>43</td>\n",
       "      <td>6.650602</td>\n",
       "      <td>65.0</td>\n",
       "      <td>164</td>\n",
       "    </tr>\n",
       "    <tr>\n",
       "      <th>4</th>\n",
       "      <td>Karachi Kings</td>\n",
       "      <td>Lahore Qalandars</td>\n",
       "      <td>107</td>\n",
       "      <td>7</td>\n",
       "      <td>54</td>\n",
       "      <td>8.916667</td>\n",
       "      <td>46.0</td>\n",
       "      <td>186</td>\n",
       "    </tr>\n",
       "  </tbody>\n",
       "</table>\n",
       "</div>"
      ],
      "text/plain": [
       "              team_1             team_2  total_runs  wickets_left  balls_left  \\\n",
       "0  Quetta Gladiators   Islamabad United          27             8         100   \n",
       "1   Lahore Qalandars  Quetta Gladiators          12            10         108   \n",
       "2     Multan Sultans   Lahore Qalandars           1            10         116   \n",
       "3   Lahore Qalandars     Peshawar Zalmi          92             8          43   \n",
       "4      Karachi Kings   Lahore Qalandars         107             7          54   \n",
       "\n",
       "        crr  last_five  Target  \n",
       "0  6.230769       26.0     156  \n",
       "1  4.000000       30.0     209  \n",
       "2  0.600000       41.0     200  \n",
       "3  6.650602       65.0     164  \n",
       "4  8.916667       46.0     186  "
      ]
     },
     "execution_count": 3,
     "metadata": {},
     "output_type": "execute_result"
    }
   ],
   "source": [
    "df.head()"
   ]
  },
  {
   "cell_type": "code",
   "execution_count": 4,
   "id": "1e905bd1",
   "metadata": {},
   "outputs": [
    {
     "data": {
      "text/plain": [
       "(19689, 8)"
      ]
     },
     "execution_count": 4,
     "metadata": {},
     "output_type": "execute_result"
    }
   ],
   "source": [
    "df.shape"
   ]
  },
  {
   "cell_type": "code",
   "execution_count": 5,
   "id": "911bda68",
   "metadata": {},
   "outputs": [
    {
     "name": "stdout",
     "output_type": "stream",
     "text": [
      "<class 'pandas.core.frame.DataFrame'>\n",
      "RangeIndex: 19689 entries, 0 to 19688\n",
      "Data columns (total 8 columns):\n",
      " #   Column        Non-Null Count  Dtype  \n",
      "---  ------        --------------  -----  \n",
      " 0   team_1        19689 non-null  object \n",
      " 1   team_2        19689 non-null  object \n",
      " 2   total_runs    19689 non-null  int64  \n",
      " 3   wickets_left  19689 non-null  int64  \n",
      " 4   balls_left    19689 non-null  int64  \n",
      " 5   crr           19689 non-null  float64\n",
      " 6   last_five     19689 non-null  float64\n",
      " 7   Target        19689 non-null  int64  \n",
      "dtypes: float64(2), int64(4), object(2)\n",
      "memory usage: 1.2+ MB\n"
     ]
    }
   ],
   "source": [
    "df.info()"
   ]
  },
  {
   "cell_type": "code",
   "execution_count": 6,
   "id": "e66465f6",
   "metadata": {},
   "outputs": [],
   "source": [
    "X=df.drop(columns='Target')\n",
    "Y=df['Target']\n",
    "from sklearn.model_selection import train_test_split\n",
    "X_train,X_test,Y_train,Y_test = train_test_split(X,Y,test_size=0.15,random_state=1)"
   ]
  },
  {
   "cell_type": "code",
   "execution_count": 7,
   "id": "1cf04678",
   "metadata": {},
   "outputs": [
    {
     "data": {
      "text/plain": [
       "(16735, 7)"
      ]
     },
     "execution_count": 7,
     "metadata": {},
     "output_type": "execute_result"
    }
   ],
   "source": [
    "X_train.shape"
   ]
  },
  {
   "cell_type": "code",
   "execution_count": 8,
   "id": "5987a0b8",
   "metadata": {},
   "outputs": [
    {
     "data": {
      "text/plain": [
       "(2954, 7)"
      ]
     },
     "execution_count": 8,
     "metadata": {},
     "output_type": "execute_result"
    }
   ],
   "source": [
    "X_test.shape"
   ]
  },
  {
   "cell_type": "markdown",
   "id": "be90e3ed",
   "metadata": {},
   "source": [
    "### XGBOOST"
   ]
  },
  {
   "cell_type": "code",
   "execution_count": 9,
   "id": "3d80b546",
   "metadata": {},
   "outputs": [],
   "source": [
    "from sklearn.compose import ColumnTransformer\n",
    "from sklearn.preprocessing import OneHotEncoder\n",
    "from sklearn.pipeline import Pipeline\n",
    "from sklearn.preprocessing import StandardScaler\n",
    "from sklearn.ensemble import RandomForestRegressor\n",
    "from xgboost import XGBRegressor\n",
    "from sklearn.metrics import r2_score,mean_absolute_error\n",
    "from sklearn.model_selection import cross_val_score"
   ]
  },
  {
   "cell_type": "code",
   "execution_count": 10,
   "id": "eb1b4fed",
   "metadata": {},
   "outputs": [],
   "source": [
    "trf = ColumnTransformer([\n",
    "    ('trf',OneHotEncoder(sparse=False,drop='first'),['team_1','team_2'])\n",
    "]\n",
    ",remainder='passthrough')"
   ]
  },
  {
   "cell_type": "code",
   "execution_count": 11,
   "id": "30ece97d",
   "metadata": {},
   "outputs": [],
   "source": [
    "pipe = Pipeline(steps=[\n",
    "    ('step1',trf),\n",
    "    ('step2',StandardScaler()),\n",
    "    ('step3',XGBRegressor(n_estimators=100,learning_rate=0.2,max_depth=12,random_state=1))\n",
    "])"
   ]
  },
  {
   "cell_type": "code",
   "execution_count": 12,
   "id": "17943c07",
   "metadata": {},
   "outputs": [
    {
     "name": "stdout",
     "output_type": "stream",
     "text": [
      "0.922534963476034\n",
      "4.345068690739698\n"
     ]
    }
   ],
   "source": [
    "pipe.fit(X_train,Y_train)\n",
    "y_pred = pipe.predict(X_test)\n",
    "print(r2_score(Y_test,y_pred))\n",
    "print(mean_absolute_error(Y_test,y_pred))"
   ]
  },
  {
   "cell_type": "code",
   "execution_count": 13,
   "id": "f2102f9a",
   "metadata": {},
   "outputs": [
    {
     "data": {
      "text/plain": [
       "0.998936056422758"
      ]
     },
     "execution_count": 13,
     "metadata": {},
     "output_type": "execute_result"
    }
   ],
   "source": [
    "#OVERFITTING\n",
    "training_predictions = pipe.predict(X_train)\n",
    "r2_score(Y_train,training_predictions)"
   ]
  },
  {
   "cell_type": "code",
   "execution_count": 14,
   "id": "dc23cdeb",
   "metadata": {},
   "outputs": [
    {
     "name": "stdout",
     "output_type": "stream",
     "text": [
      "Cross-Validation Scores: [0.9112709  0.9106253  0.90370174 0.8904284  0.92261935]\n",
      "Mean Cross-Validation Score: 0.9077291374321138\n"
     ]
    }
   ],
   "source": [
    "cv_scores = cross_val_score(pipe,X,Y,cv=5, scoring='r2')\n",
    "\n",
    "print(\"Cross-Validation Scores:\", cv_scores)\n",
    "print(\"Mean Cross-Validation Score:\", cv_scores.mean())"
   ]
  },
  {
   "cell_type": "markdown",
   "id": "d2c0dc40",
   "metadata": {},
   "source": [
    "### Linear Regression"
   ]
  },
  {
   "cell_type": "code",
   "execution_count": 15,
   "id": "bc17f6a4",
   "metadata": {},
   "outputs": [],
   "source": [
    "from sklearn.linear_model import LinearRegression\n",
    "from sklearn.metrics import mean_squared_error,r2_score\n",
    "from sklearn.model_selection import cross_val_score\n",
    "from sklearn.preprocessing import OneHotEncoder,StandardScaler\n",
    "from sklearn.compose import ColumnTransformer\n"
   ]
  },
  {
   "cell_type": "code",
   "execution_count": 16,
   "id": "0c3e797a",
   "metadata": {},
   "outputs": [],
   "source": [
    "transformer = ColumnTransformer(transformers=[\n",
    "    ('trf',OneHotEncoder(sparse=False,drop='first'),['team_1','team_2'])\n",
    "],remainder='passthrough')\n",
    "X_train_transformed = transformer.fit_transform(X_train)"
   ]
  },
  {
   "cell_type": "code",
   "execution_count": 17,
   "id": "a84127ad",
   "metadata": {},
   "outputs": [],
   "source": [
    "transformer = ColumnTransformer(transformers=[\n",
    "    ('trf',OneHotEncoder(sparse=False,drop='first'),['team_1','team_2'])\n",
    "],remainder='passthrough')\n",
    "X_test_transformed = transformer.fit_transform(X_test)"
   ]
  },
  {
   "cell_type": "code",
   "execution_count": 18,
   "id": "aedfece6",
   "metadata": {},
   "outputs": [],
   "source": [
    "Sscaler = StandardScaler()\n",
    "X_train = Sscaler.fit_transform(X_train_transformed )\n",
    "X_test = Sscaler.transform(X_test_transformed )\n"
   ]
  },
  {
   "cell_type": "code",
   "execution_count": 19,
   "id": "d2dd8f0d",
   "metadata": {},
   "outputs": [
    {
     "data": {
      "text/plain": [
       "LinearRegression()"
      ]
     },
     "execution_count": 19,
     "metadata": {},
     "output_type": "execute_result"
    }
   ],
   "source": [
    "model = LinearRegression()\n",
    "model.fit(X_train,Y_train)"
   ]
  },
  {
   "cell_type": "code",
   "execution_count": 20,
   "id": "bebf9b47",
   "metadata": {},
   "outputs": [],
   "source": [
    "predictions = model.predict(X_test)\n"
   ]
  },
  {
   "cell_type": "code",
   "execution_count": 21,
   "id": "14b05033",
   "metadata": {},
   "outputs": [
    {
     "data": {
      "text/plain": [
       "0.46521263115130795"
      ]
     },
     "execution_count": 21,
     "metadata": {},
     "output_type": "execute_result"
    }
   ],
   "source": [
    "#OVERFITTING\n",
    "training_predictions = model.predict(X_train)\n",
    "r2_score(Y_train,training_predictions)"
   ]
  },
  {
   "cell_type": "code",
   "execution_count": 22,
   "id": "c6a6a148",
   "metadata": {},
   "outputs": [
    {
     "name": "stdout",
     "output_type": "stream",
     "text": [
      "Mean Squared error 491.17038417755975\n",
      "r2 Score 0.47289419024790547\n"
     ]
    }
   ],
   "source": [
    "mse = mean_squared_error(Y_test,predictions)\n",
    "r2 = r2_score(Y_test,predictions)\n",
    "print('Mean Squared error', mse)\n",
    "print('r2 Score', r2)"
   ]
  },
  {
   "cell_type": "code",
   "execution_count": 23,
   "id": "f231825e",
   "metadata": {},
   "outputs": [
    {
     "name": "stdout",
     "output_type": "stream",
     "text": [
      "Cross-Validation Scores: [0.46671125 0.4659469  0.45562258 0.46964071 0.46226959]\n",
      "Mean Cross-Validation Score: 0.4640382093618296\n"
     ]
    }
   ],
   "source": [
    "cv_score = cross_val_score(model,X_train,Y_train,cv=5, scoring='r2')\n",
    "\n",
    "print(\"Cross-Validation Scores:\", cv_score)\n",
    "print(\"Mean Cross-Validation Score:\", cv_score.mean())"
   ]
  },
  {
   "cell_type": "markdown",
   "id": "97eab7cb",
   "metadata": {},
   "source": [
    "### XGBoost 2"
   ]
  },
  {
   "cell_type": "code",
   "execution_count": 24,
   "id": "1048128d",
   "metadata": {},
   "outputs": [
    {
     "data": {
      "text/plain": [
       "XGBRegressor(base_score=None, booster=None, callbacks=None,\n",
       "             colsample_bylevel=None, colsample_bynode=None,\n",
       "             colsample_bytree=None, device=None, early_stopping_rounds=None,\n",
       "             enable_categorical=False, eval_metric=None, feature_types=None,\n",
       "             gamma=None, grow_policy=None, importance_type=None,\n",
       "             interaction_constraints=None, learning_rate=0.2, max_bin=None,\n",
       "             max_cat_threshold=None, max_cat_to_onehot=None,\n",
       "             max_delta_step=None, max_depth=12, max_leaves=None,\n",
       "             min_child_weight=None, missing=nan, monotone_constraints=None,\n",
       "             multi_strategy=None, n_estimators=200, n_jobs=None,\n",
       "             num_parallel_tree=None, random_state=1, ...)"
      ]
     },
     "execution_count": 24,
     "metadata": {},
     "output_type": "execute_result"
    }
   ],
   "source": [
    "model2 = XGBRegressor(n_estimators=200,learning_rate=0.2,max_depth=12,random_state=1)\n",
    "model2.fit(X_train,Y_train)"
   ]
  },
  {
   "cell_type": "code",
   "execution_count": 25,
   "id": "6e5e6a26",
   "metadata": {},
   "outputs": [],
   "source": [
    "predictions2 = model2.predict(X_test)"
   ]
  },
  {
   "cell_type": "code",
   "execution_count": 26,
   "id": "acd32367",
   "metadata": {},
   "outputs": [
    {
     "data": {
      "text/plain": [
       "0.9996288531587854"
      ]
     },
     "execution_count": 26,
     "metadata": {},
     "output_type": "execute_result"
    }
   ],
   "source": [
    "#OVERFITTING\n",
    "training_predictions = model2.predict(X_train)\n",
    "r2_score(Y_train,training_predictions)"
   ]
  },
  {
   "cell_type": "code",
   "execution_count": 27,
   "id": "427965c2",
   "metadata": {},
   "outputs": [
    {
     "name": "stdout",
     "output_type": "stream",
     "text": [
      "Mean Absolute Error  4.265541398210467\n",
      "r2 Score  0.9234153165168264\n"
     ]
    }
   ],
   "source": [
    "mae = mean_absolute_error(Y_test,predictions2)\n",
    "r2 = r2_score(Y_test,predictions2)\n",
    "print('Mean Absolute Error ', mae)\n",
    "print('r2 Score ',r2)"
   ]
  },
  {
   "cell_type": "code",
   "execution_count": 28,
   "id": "63f519fb",
   "metadata": {},
   "outputs": [
    {
     "name": "stdout",
     "output_type": "stream",
     "text": [
      "Cross-Validation Scores: [0.89302079 0.8735891  0.88694553 0.89008585 0.8898747 ]\n",
      "Mean Cross-Validation Score: 0.8867031961057105\n"
     ]
    }
   ],
   "source": [
    "cv_score = cross_val_score(model2,X_train,Y_train,cv=5, scoring='r2')\n",
    "\n",
    "print(\"Cross-Validation Scores:\", cv_score)\n",
    "print(\"Mean Cross-Validation Score:\", cv_score.mean())"
   ]
  },
  {
   "cell_type": "markdown",
   "id": "f1a871ff",
   "metadata": {},
   "source": [
    "### Decision tree"
   ]
  },
  {
   "cell_type": "code",
   "execution_count": 29,
   "id": "b5be14da",
   "metadata": {},
   "outputs": [],
   "source": [
    "from sklearn.tree import DecisionTreeRegressor\n",
    "from sklearn.metrics import mean_squared_error"
   ]
  },
  {
   "cell_type": "code",
   "execution_count": 30,
   "id": "59773418",
   "metadata": {},
   "outputs": [
    {
     "data": {
      "text/plain": [
       "DecisionTreeRegressor(random_state=42)"
      ]
     },
     "execution_count": 30,
     "metadata": {},
     "output_type": "execute_result"
    }
   ],
   "source": [
    "model3 = DecisionTreeRegressor(random_state=42)\n",
    "model3.fit(X_train,Y_train)"
   ]
  },
  {
   "cell_type": "code",
   "execution_count": 31,
   "id": "b9654d42",
   "metadata": {},
   "outputs": [],
   "source": [
    "predictions3 = model3.predict(X_test)"
   ]
  },
  {
   "cell_type": "code",
   "execution_count": 32,
   "id": "ff47ac49",
   "metadata": {},
   "outputs": [
    {
     "data": {
      "text/plain": [
       "0.999667696287048"
      ]
     },
     "execution_count": 32,
     "metadata": {},
     "output_type": "execute_result"
    }
   ],
   "source": [
    "#OVERFITTING\n",
    "training_predictions = model3.predict(X_train)\n",
    "r2_score(Y_train,training_predictions)"
   ]
  },
  {
   "cell_type": "code",
   "execution_count": 33,
   "id": "3aecf701",
   "metadata": {},
   "outputs": [
    {
     "name": "stdout",
     "output_type": "stream",
     "text": [
      "Mean Squared Error :  157.38887948544345\n",
      "r2 Score :  0.8310961013945031\n"
     ]
    }
   ],
   "source": [
    "mse = mean_squared_error(Y_test,predictions3)\n",
    "r2 = r2_score(Y_test,predictions3)\n",
    "print('Mean Squared Error : ', mse)\n",
    "print('r2 Score : ',r2)"
   ]
  },
  {
   "cell_type": "code",
   "execution_count": 34,
   "id": "eddb5f38",
   "metadata": {},
   "outputs": [
    {
     "name": "stdout",
     "output_type": "stream",
     "text": [
      "Cross-Validation Scores: [0.77179351 0.77848067 0.77142015 0.77553906 0.77150539]\n",
      "Mean Cross-Validation Score: 0.7737477562581871\n"
     ]
    }
   ],
   "source": [
    "cv_score = cross_val_score(model3,X_train,Y_train,cv=5, scoring='r2')\n",
    "\n",
    "print(\"Cross-Validation Scores:\", cv_score)\n",
    "print(\"Mean Cross-Validation Score:\", cv_score.mean())"
   ]
  },
  {
   "cell_type": "markdown",
   "id": "a725e5e0",
   "metadata": {},
   "source": [
    "### Random Forest"
   ]
  },
  {
   "cell_type": "code",
   "execution_count": 35,
   "id": "a0f95f7f",
   "metadata": {},
   "outputs": [],
   "source": [
    "from sklearn.ensemble import RandomForestRegressor\n",
    "from sklearn.metrics import accuracy_score"
   ]
  },
  {
   "cell_type": "code",
   "execution_count": 36,
   "id": "77f20765",
   "metadata": {},
   "outputs": [
    {
     "data": {
      "text/plain": [
       "RandomForestRegressor(random_state=42)"
      ]
     },
     "execution_count": 36,
     "metadata": {},
     "output_type": "execute_result"
    }
   ],
   "source": [
    "model4 = RandomForestRegressor(n_estimators=100, random_state=42)\n",
    "model4.fit(X_train, Y_train)"
   ]
  },
  {
   "cell_type": "code",
   "execution_count": 37,
   "id": "f005b060",
   "metadata": {},
   "outputs": [],
   "source": [
    "prediction4 = model4.predict(X_test)"
   ]
  },
  {
   "cell_type": "code",
   "execution_count": 38,
   "id": "7e515fa6",
   "metadata": {},
   "outputs": [
    {
     "data": {
      "text/plain": [
       "0.9864905588331206"
      ]
     },
     "execution_count": 38,
     "metadata": {},
     "output_type": "execute_result"
    }
   ],
   "source": [
    "#OVERFITTING\n",
    "training_predictions = model4.predict(X_train)\n",
    "r2_score(Y_train,training_predictions)"
   ]
  },
  {
   "cell_type": "code",
   "execution_count": 39,
   "id": "45b66f72",
   "metadata": {},
   "outputs": [
    {
     "name": "stdout",
     "output_type": "stream",
     "text": [
      "Mean Squared Error :  74.31076815459782\n",
      "r2 Score :  0.9202524441960868\n"
     ]
    }
   ],
   "source": [
    "mse = mean_squared_error(Y_test,prediction4)\n",
    "r2 = r2_score(Y_test,prediction4)\n",
    "print('Mean Squared Error : ', mse)\n",
    "print('r2 Score : ', r2)"
   ]
  },
  {
   "cell_type": "code",
   "execution_count": 40,
   "id": "b365cc5a",
   "metadata": {},
   "outputs": [
    {
     "name": "stdout",
     "output_type": "stream",
     "text": [
      "Cross-Validation Scores: [0.88927513 0.87985259 0.88549266 0.89537206 0.88665289]\n",
      "Mean Cross-Validation Score: 0.8873290687841227\n"
     ]
    }
   ],
   "source": [
    "cv_score = cross_val_score(model4,X_train,Y_train,cv=5, scoring='r2')\n",
    "\n",
    "print(\"Cross-Validation Scores:\", cv_score)\n",
    "print(\"Mean Cross-Validation Score:\", cv_score.mean())"
   ]
  },
  {
   "cell_type": "markdown",
   "id": "66a386cf",
   "metadata": {},
   "source": [
    "### SVM(svr)"
   ]
  },
  {
   "cell_type": "code",
   "execution_count": 41,
   "id": "0f984f76",
   "metadata": {},
   "outputs": [],
   "source": [
    "from sklearn.svm import SVR\n",
    "from sklearn.metrics import mean_squared_error"
   ]
  },
  {
   "cell_type": "code",
   "execution_count": 42,
   "id": "187e0ecd",
   "metadata": {},
   "outputs": [
    {
     "data": {
      "text/plain": [
       "SVR(kernel='linear')"
      ]
     },
     "execution_count": 42,
     "metadata": {},
     "output_type": "execute_result"
    }
   ],
   "source": [
    "model5 = SVR(kernel='linear', C=1.0)\n",
    "model5.fit(X_train, Y_train)"
   ]
  },
  {
   "cell_type": "code",
   "execution_count": 43,
   "id": "4cc08bbe",
   "metadata": {},
   "outputs": [],
   "source": [
    "predictions5 = model5.predict(X_test)"
   ]
  },
  {
   "cell_type": "code",
   "execution_count": 44,
   "id": "73df3ce4",
   "metadata": {},
   "outputs": [
    {
     "name": "stdout",
     "output_type": "stream",
     "text": [
      "Mean Squared Error :  504.4354803565474\n",
      "r2 Score :  0.4586585818152581\n"
     ]
    }
   ],
   "source": [
    "mse = mean_squared_error(Y_test,predictions5)\n",
    "r2 = r2_score(Y_test,predictions5)\n",
    "print('Mean Squared Error : ', mse)\n",
    "print('r2 Score : ', r2)"
   ]
  },
  {
   "cell_type": "code",
   "execution_count": 46,
   "id": "d97f9523",
   "metadata": {},
   "outputs": [
    {
     "data": {
      "text/plain": [
       "0.44864343229376014"
      ]
     },
     "execution_count": 46,
     "metadata": {},
     "output_type": "execute_result"
    }
   ],
   "source": [
    "#OVERFITTING\n",
    "training_predictions = model5.predict(X_train)\n",
    "r2_score(Y_train,training_predictions)"
   ]
  },
  {
   "cell_type": "code",
   "execution_count": 45,
   "id": "5da4ba15",
   "metadata": {},
   "outputs": [
    {
     "name": "stdout",
     "output_type": "stream",
     "text": [
      "Cross-Validation Scores: [0.45517102 0.44549237 0.43661593 0.45590752 0.44647614]\n",
      "Mean Cross-Validation Score: 0.4479325951616602\n"
     ]
    }
   ],
   "source": [
    "cv_score = cross_val_score(model5,X_train,Y_train,cv=5, scoring='r2')\n",
    "\n",
    "print(\"Cross-Validation Scores:\", cv_score)\n",
    "print(\"Mean Cross-Validation Score:\", cv_score.mean())"
   ]
  },
  {
   "cell_type": "code",
   "execution_count": null,
   "id": "00421548",
   "metadata": {},
   "outputs": [],
   "source": []
  }
 ],
 "metadata": {
  "kernelspec": {
   "display_name": "Python 3 (ipykernel)",
   "language": "python",
   "name": "python3"
  },
  "language_info": {
   "codemirror_mode": {
    "name": "ipython",
    "version": 3
   },
   "file_extension": ".py",
   "mimetype": "text/x-python",
   "name": "python",
   "nbconvert_exporter": "python",
   "pygments_lexer": "ipython3",
   "version": "3.9.12"
  }
 },
 "nbformat": 4,
 "nbformat_minor": 5
}
