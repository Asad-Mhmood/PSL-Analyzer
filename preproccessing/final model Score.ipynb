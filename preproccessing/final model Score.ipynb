{
 "cells": [
  {
   "cell_type": "code",
   "execution_count": 1,
   "id": "5969a721",
   "metadata": {},
   "outputs": [],
   "source": [
    "import pandas as pd\n",
    "import numpy as np\n",
    "import seaborn as sns\n",
    "import sklearn"
   ]
  },
  {
   "cell_type": "code",
   "execution_count": 2,
   "id": "6cb299d3",
   "metadata": {},
   "outputs": [],
   "source": [
    "df=pd.read_csv('finalPSL.csv')"
   ]
  },
  {
   "cell_type": "code",
   "execution_count": 3,
   "id": "be222e68",
   "metadata": {},
   "outputs": [
    {
     "data": {
      "text/html": [
       "<div>\n",
       "<style scoped>\n",
       "    .dataframe tbody tr th:only-of-type {\n",
       "        vertical-align: middle;\n",
       "    }\n",
       "\n",
       "    .dataframe tbody tr th {\n",
       "        vertical-align: top;\n",
       "    }\n",
       "\n",
       "    .dataframe thead th {\n",
       "        text-align: right;\n",
       "    }\n",
       "</style>\n",
       "<table border=\"1\" class=\"dataframe\">\n",
       "  <thead>\n",
       "    <tr style=\"text-align: right;\">\n",
       "      <th></th>\n",
       "      <th>team_1</th>\n",
       "      <th>team_2</th>\n",
       "      <th>total_runs</th>\n",
       "      <th>wickets_left</th>\n",
       "      <th>balls_left</th>\n",
       "      <th>crr</th>\n",
       "      <th>last_five</th>\n",
       "      <th>Target</th>\n",
       "    </tr>\n",
       "  </thead>\n",
       "  <tbody>\n",
       "    <tr>\n",
       "      <th>0</th>\n",
       "      <td>Quetta Gladiators</td>\n",
       "      <td>Islamabad United</td>\n",
       "      <td>27</td>\n",
       "      <td>8</td>\n",
       "      <td>100</td>\n",
       "      <td>6.230769</td>\n",
       "      <td>26.0</td>\n",
       "      <td>156</td>\n",
       "    </tr>\n",
       "    <tr>\n",
       "      <th>1</th>\n",
       "      <td>Lahore Qalandars</td>\n",
       "      <td>Quetta Gladiators</td>\n",
       "      <td>12</td>\n",
       "      <td>10</td>\n",
       "      <td>108</td>\n",
       "      <td>4.000000</td>\n",
       "      <td>30.0</td>\n",
       "      <td>209</td>\n",
       "    </tr>\n",
       "    <tr>\n",
       "      <th>2</th>\n",
       "      <td>Multan Sultans</td>\n",
       "      <td>Lahore Qalandars</td>\n",
       "      <td>1</td>\n",
       "      <td>10</td>\n",
       "      <td>116</td>\n",
       "      <td>0.600000</td>\n",
       "      <td>41.0</td>\n",
       "      <td>200</td>\n",
       "    </tr>\n",
       "    <tr>\n",
       "      <th>3</th>\n",
       "      <td>Lahore Qalandars</td>\n",
       "      <td>Peshawar Zalmi</td>\n",
       "      <td>92</td>\n",
       "      <td>8</td>\n",
       "      <td>43</td>\n",
       "      <td>6.650602</td>\n",
       "      <td>65.0</td>\n",
       "      <td>164</td>\n",
       "    </tr>\n",
       "    <tr>\n",
       "      <th>4</th>\n",
       "      <td>Karachi Kings</td>\n",
       "      <td>Lahore Qalandars</td>\n",
       "      <td>107</td>\n",
       "      <td>7</td>\n",
       "      <td>54</td>\n",
       "      <td>8.916667</td>\n",
       "      <td>46.0</td>\n",
       "      <td>186</td>\n",
       "    </tr>\n",
       "  </tbody>\n",
       "</table>\n",
       "</div>"
      ],
      "text/plain": [
       "              team_1             team_2  total_runs  wickets_left  balls_left  \\\n",
       "0  Quetta Gladiators   Islamabad United          27             8         100   \n",
       "1   Lahore Qalandars  Quetta Gladiators          12            10         108   \n",
       "2     Multan Sultans   Lahore Qalandars           1            10         116   \n",
       "3   Lahore Qalandars     Peshawar Zalmi          92             8          43   \n",
       "4      Karachi Kings   Lahore Qalandars         107             7          54   \n",
       "\n",
       "        crr  last_five  Target  \n",
       "0  6.230769       26.0     156  \n",
       "1  4.000000       30.0     209  \n",
       "2  0.600000       41.0     200  \n",
       "3  6.650602       65.0     164  \n",
       "4  8.916667       46.0     186  "
      ]
     },
     "execution_count": 3,
     "metadata": {},
     "output_type": "execute_result"
    }
   ],
   "source": [
    "df.head()"
   ]
  },
  {
   "cell_type": "code",
   "execution_count": 4,
   "id": "f554471c",
   "metadata": {},
   "outputs": [
    {
     "data": {
      "text/plain": [
       "array(['Quetta Gladiators', 'Lahore Qalandars', 'Multan Sultans', ...,\n",
       "       'Karachi Kings', 'Multan Sultans', 'Lahore Qalandars'],\n",
       "      dtype=object)"
      ]
     },
     "execution_count": 4,
     "metadata": {},
     "output_type": "execute_result"
    }
   ],
   "source": [
    "df['team_1'].values"
   ]
  },
  {
   "cell_type": "code",
   "execution_count": 4,
   "id": "cba93b27",
   "metadata": {},
   "outputs": [
    {
     "data": {
      "text/plain": [
       "Index(['team_1', 'team_2', 'total_runs', 'wickets_left', 'balls_left', 'crr',\n",
       "       'last_five', 'Target'],\n",
       "      dtype='object')"
      ]
     },
     "execution_count": 4,
     "metadata": {},
     "output_type": "execute_result"
    }
   ],
   "source": [
    "df.columns"
   ]
  },
  {
   "cell_type": "code",
   "execution_count": 5,
   "id": "bc115146",
   "metadata": {},
   "outputs": [
    {
     "name": "stdout",
     "output_type": "stream",
     "text": [
      "<class 'pandas.core.frame.DataFrame'>\n",
      "RangeIndex: 19689 entries, 0 to 19688\n",
      "Data columns (total 8 columns):\n",
      " #   Column        Non-Null Count  Dtype  \n",
      "---  ------        --------------  -----  \n",
      " 0   team_1        19689 non-null  object \n",
      " 1   team_2        19689 non-null  object \n",
      " 2   total_runs    19689 non-null  int64  \n",
      " 3   wickets_left  19689 non-null  int64  \n",
      " 4   balls_left    19689 non-null  int64  \n",
      " 5   crr           19689 non-null  float64\n",
      " 6   last_five     19689 non-null  float64\n",
      " 7   Target        19689 non-null  int64  \n",
      "dtypes: float64(2), int64(4), object(2)\n",
      "memory usage: 1.2+ MB\n"
     ]
    }
   ],
   "source": [
    "df.info()"
   ]
  },
  {
   "cell_type": "code",
   "execution_count": 6,
   "id": "517e3924",
   "metadata": {},
   "outputs": [],
   "source": [
    "X=df.drop(columns='Target')\n",
    "Y=df['Target']\n",
    "from sklearn.model_selection import train_test_split\n",
    "X_train,X_test,Y_train,Y_test = train_test_split(X,Y,test_size=0.1,random_state=1)"
   ]
  },
  {
   "cell_type": "code",
   "execution_count": 7,
   "id": "449707bd",
   "metadata": {},
   "outputs": [
    {
     "data": {
      "text/plain": [
       "(17720, 7)"
      ]
     },
     "execution_count": 7,
     "metadata": {},
     "output_type": "execute_result"
    }
   ],
   "source": [
    "X_train.shape"
   ]
  },
  {
   "cell_type": "code",
   "execution_count": 8,
   "id": "6c18358d",
   "metadata": {},
   "outputs": [
    {
     "data": {
      "text/plain": [
       "(1969, 7)"
      ]
     },
     "execution_count": 8,
     "metadata": {},
     "output_type": "execute_result"
    }
   ],
   "source": [
    "X_test.shape"
   ]
  },
  {
   "cell_type": "code",
   "execution_count": 9,
   "id": "6010c1c4",
   "metadata": {},
   "outputs": [],
   "source": [
    "from sklearn.compose import ColumnTransformer\n",
    "from sklearn.preprocessing import OneHotEncoder\n",
    "from sklearn.pipeline import Pipeline\n",
    "from sklearn.preprocessing import StandardScaler\n",
    "from sklearn.ensemble import RandomForestRegressor\n",
    "from xgboost import XGBRegressor\n",
    "from sklearn.metrics import r2_score,mean_absolute_error\n",
    "from sklearn.model_selection import cross_val_score"
   ]
  },
  {
   "cell_type": "code",
   "execution_count": 10,
   "id": "292c31d6",
   "metadata": {},
   "outputs": [],
   "source": [
    "trf = ColumnTransformer([\n",
    "    ('trf',OneHotEncoder(sparse=False,drop='first'),['team_1','team_2'])\n",
    "]\n",
    ",remainder='passthrough')"
   ]
  },
  {
   "cell_type": "code",
   "execution_count": 23,
   "id": "be9c5fc6",
   "metadata": {},
   "outputs": [],
   "source": [
    "pipe = Pipeline(steps=[\n",
    "    ('step1',trf),\n",
    "    ('step2',StandardScaler()),\n",
    "    ('step3',XGBRegressor(n_estimators=80,learning_rate=0.1,max_depth=12,random_state=1, subsample=0.6))\n",
    "])"
   ]
  },
  {
   "cell_type": "code",
   "execution_count": 24,
   "id": "08edbd53",
   "metadata": {},
   "outputs": [
    {
     "name": "stdout",
     "output_type": "stream",
     "text": [
      "0.9143365264155252\n",
      "5.189496353715128\n"
     ]
    }
   ],
   "source": [
    "pipe.fit(X_train,Y_train)\n",
    "y_pred = pipe.predict(X_test)\n",
    "print(r2_score(Y_test,y_pred))\n",
    "print(mean_absolute_error(Y_test,y_pred))"
   ]
  },
  {
   "cell_type": "code",
   "execution_count": 25,
   "id": "50115db6",
   "metadata": {},
   "outputs": [
    {
     "data": {
      "text/plain": [
       "0.986428246858474"
      ]
     },
     "execution_count": 25,
     "metadata": {},
     "output_type": "execute_result"
    }
   ],
   "source": [
    "#OVERFITTING\n",
    "training_predictions = pipe.predict(X_train)\n",
    "r2_score(Y_train,training_predictions)"
   ]
  },
  {
   "cell_type": "code",
   "execution_count": 26,
   "id": "0515584c",
   "metadata": {},
   "outputs": [
    {
     "name": "stdout",
     "output_type": "stream",
     "text": [
      "Cross-Validation Scores: [0.90234827 0.90366744 0.89777606 0.8915531  0.91281248]\n",
      "Mean Cross-Validation Score: 0.9016314706977709\n"
     ]
    }
   ],
   "source": [
    "cv_scores = cross_val_score(pipe,X,Y,cv=5, scoring='r2')\n",
    "\n",
    "print(\"Cross-Validation Scores:\", cv_scores)\n",
    "print(\"Mean Cross-Validation Score:\", cv_scores.mean())"
   ]
  },
  {
   "cell_type": "code",
   "execution_count": 27,
   "id": "eef41a88",
   "metadata": {},
   "outputs": [
    {
     "name": "stdout",
     "output_type": "stream",
     "text": [
      "Predicted Score Is :  [179.30212]\n",
      "Actural Score Is :  175\n"
     ]
    }
   ],
   "source": [
    "features = np.array([['Lahore Qalandars','Multan Sultans',85,9,60,8.5,52]])\n",
    "\n",
    "features_df =pd.DataFrame(features,columns=['team_1', 'team_2', 'total_runs', 'wickets_left', 'balls_left', 'crr',\n",
    "       'last_five'])\n",
    "\n",
    "print('Predicted Score Is : ',pipe.predict(features_df))\n",
    "print('Actural Score Is : ', 175)"
   ]
  },
  {
   "cell_type": "code",
   "execution_count": 44,
   "id": "788e8d63",
   "metadata": {},
   "outputs": [
    {
     "name": "stdout",
     "output_type": "stream",
     "text": [
      "Predicted Score is :  [192.35803]\n",
      "Actual Score is : 199\n"
     ]
    }
   ],
   "source": [
    "features = np.array([['Peshawar Zalmi','Karachi Kings',116,8,48,9.66,52]])\n",
    "\n",
    "features_df =pd.DataFrame(features,columns=['team_1', 'team_2', 'total_runs', 'wickets_left', 'balls_left', 'crr',\n",
    "       'last_five'])\n",
    "\n",
    "print('Predicted Score is : ',pipe.predict(features_df))\n",
    "print('Actual Score is : 199')"
   ]
  },
  {
   "cell_type": "code",
   "execution_count": 46,
   "id": "265e22c5",
   "metadata": {},
   "outputs": [
    {
     "name": "stdout",
     "output_type": "stream",
     "text": [
      "Predicted Score is :  [137.37257]\n",
      "Actual Score is : 110\n"
     ]
    }
   ],
   "source": [
    "features = np.array([['Quetta Gladiators','Multan Sultans',46,5,72,5.75,23]])\n",
    "\n",
    "features_df =pd.DataFrame(features,columns=['team_1', 'team_2', 'total_runs', 'wickets_left', 'balls_left', 'crr',\n",
    "       'last_five'])\n",
    "\n",
    "print('Predicted Score is : ',pipe.predict(features_df))\n",
    "print('Actual Score is : 110')"
   ]
  },
  {
   "cell_type": "code",
   "execution_count": 28,
   "id": "5098f903",
   "metadata": {},
   "outputs": [],
   "source": [
    "import pickle\n",
    "#pickle.dump(pipe,open('pipe.pkl','wb'))"
   ]
  },
  {
   "cell_type": "code",
   "execution_count": null,
   "id": "232cc5a8",
   "metadata": {},
   "outputs": [],
   "source": []
  }
 ],
 "metadata": {
  "kernelspec": {
   "display_name": "Python 3 (ipykernel)",
   "language": "python",
   "name": "python3"
  },
  "language_info": {
   "codemirror_mode": {
    "name": "ipython",
    "version": 3
   },
   "file_extension": ".py",
   "mimetype": "text/x-python",
   "name": "python",
   "nbconvert_exporter": "python",
   "pygments_lexer": "ipython3",
   "version": "3.9.12"
  }
 },
 "nbformat": 4,
 "nbformat_minor": 5
}
