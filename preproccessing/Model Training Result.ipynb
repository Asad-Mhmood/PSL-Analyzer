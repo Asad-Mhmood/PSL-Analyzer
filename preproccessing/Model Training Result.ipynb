{
 "cells": [
  {
   "cell_type": "code",
   "execution_count": 1,
   "id": "db8d1117",
   "metadata": {},
   "outputs": [],
   "source": [
    "import pandas as pd\n",
    "import numpy as np"
   ]
  },
  {
   "cell_type": "code",
   "execution_count": 2,
   "id": "c6daca3d",
   "metadata": {},
   "outputs": [],
   "source": [
    "df = pd.read_csv('finalPSLresult.csv')"
   ]
  },
  {
   "cell_type": "code",
   "execution_count": 3,
   "id": "ca9d7684",
   "metadata": {},
   "outputs": [
    {
     "data": {
      "text/html": [
       "<div>\n",
       "<style scoped>\n",
       "    .dataframe tbody tr th:only-of-type {\n",
       "        vertical-align: middle;\n",
       "    }\n",
       "\n",
       "    .dataframe tbody tr th {\n",
       "        vertical-align: top;\n",
       "    }\n",
       "\n",
       "    .dataframe thead th {\n",
       "        text-align: right;\n",
       "    }\n",
       "</style>\n",
       "<table border=\"1\" class=\"dataframe\">\n",
       "  <thead>\n",
       "    <tr style=\"text-align: right;\">\n",
       "      <th></th>\n",
       "      <th>team_1</th>\n",
       "      <th>team_2</th>\n",
       "      <th>runs_left</th>\n",
       "      <th>balls_left</th>\n",
       "      <th>wickets_left</th>\n",
       "      <th>Targets</th>\n",
       "      <th>crr</th>\n",
       "      <th>rrr</th>\n",
       "      <th>last_five</th>\n",
       "      <th>win</th>\n",
       "    </tr>\n",
       "  </thead>\n",
       "  <tbody>\n",
       "    <tr>\n",
       "      <th>0</th>\n",
       "      <td>Islamabad United</td>\n",
       "      <td>Quetta Gladiators</td>\n",
       "      <td>128</td>\n",
       "      <td>119</td>\n",
       "      <td>10</td>\n",
       "      <td>128</td>\n",
       "      <td>0.000000</td>\n",
       "      <td>6.453782</td>\n",
       "      <td>19.0</td>\n",
       "      <td>1</td>\n",
       "    </tr>\n",
       "    <tr>\n",
       "      <th>1</th>\n",
       "      <td>Islamabad United</td>\n",
       "      <td>Quetta Gladiators</td>\n",
       "      <td>128</td>\n",
       "      <td>118</td>\n",
       "      <td>10</td>\n",
       "      <td>128</td>\n",
       "      <td>0.000000</td>\n",
       "      <td>6.508475</td>\n",
       "      <td>20.0</td>\n",
       "      <td>1</td>\n",
       "    </tr>\n",
       "    <tr>\n",
       "      <th>2</th>\n",
       "      <td>Islamabad United</td>\n",
       "      <td>Quetta Gladiators</td>\n",
       "      <td>128</td>\n",
       "      <td>117</td>\n",
       "      <td>10</td>\n",
       "      <td>128</td>\n",
       "      <td>0.000000</td>\n",
       "      <td>6.564103</td>\n",
       "      <td>15.0</td>\n",
       "      <td>1</td>\n",
       "    </tr>\n",
       "    <tr>\n",
       "      <th>3</th>\n",
       "      <td>Islamabad United</td>\n",
       "      <td>Quetta Gladiators</td>\n",
       "      <td>126</td>\n",
       "      <td>116</td>\n",
       "      <td>10</td>\n",
       "      <td>128</td>\n",
       "      <td>1.200000</td>\n",
       "      <td>6.517241</td>\n",
       "      <td>13.0</td>\n",
       "      <td>1</td>\n",
       "    </tr>\n",
       "    <tr>\n",
       "      <th>4</th>\n",
       "      <td>Islamabad United</td>\n",
       "      <td>Quetta Gladiators</td>\n",
       "      <td>126</td>\n",
       "      <td>115</td>\n",
       "      <td>10</td>\n",
       "      <td>128</td>\n",
       "      <td>1.090909</td>\n",
       "      <td>6.573913</td>\n",
       "      <td>14.0</td>\n",
       "      <td>1</td>\n",
       "    </tr>\n",
       "  </tbody>\n",
       "</table>\n",
       "</div>"
      ],
      "text/plain": [
       "             team_1             team_2  runs_left  balls_left  wickets_left  \\\n",
       "0  Islamabad United  Quetta Gladiators        128         119            10   \n",
       "1  Islamabad United  Quetta Gladiators        128         118            10   \n",
       "2  Islamabad United  Quetta Gladiators        128         117            10   \n",
       "3  Islamabad United  Quetta Gladiators        126         116            10   \n",
       "4  Islamabad United  Quetta Gladiators        126         115            10   \n",
       "\n",
       "   Targets       crr       rrr  last_five  win  \n",
       "0      128  0.000000  6.453782       19.0    1  \n",
       "1      128  0.000000  6.508475       20.0    1  \n",
       "2      128  0.000000  6.564103       15.0    1  \n",
       "3      128  1.200000  6.517241       13.0    1  \n",
       "4      128  1.090909  6.573913       14.0    1  "
      ]
     },
     "execution_count": 3,
     "metadata": {},
     "output_type": "execute_result"
    }
   ],
   "source": [
    "df.head()"
   ]
  },
  {
   "cell_type": "code",
   "execution_count": 4,
   "id": "e453ae96",
   "metadata": {},
   "outputs": [],
   "source": [
    "df = df[df['balls_left']!=0]"
   ]
  },
  {
   "cell_type": "code",
   "execution_count": 5,
   "id": "fd90fe5b",
   "metadata": {},
   "outputs": [
    {
     "data": {
      "text/plain": [
       "(23981, 10)"
      ]
     },
     "execution_count": 5,
     "metadata": {},
     "output_type": "execute_result"
    }
   ],
   "source": [
    "df.shape"
   ]
  },
  {
   "cell_type": "code",
   "execution_count": 6,
   "id": "16dcd35e",
   "metadata": {},
   "outputs": [
    {
     "data": {
      "text/plain": [
       "team_1             0\n",
       "team_2             0\n",
       "runs_left          0\n",
       "balls_left         0\n",
       "wickets_left       0\n",
       "Targets            0\n",
       "crr                0\n",
       "rrr                0\n",
       "last_five       5972\n",
       "win                0\n",
       "dtype: int64"
      ]
     },
     "execution_count": 6,
     "metadata": {},
     "output_type": "execute_result"
    }
   ],
   "source": [
    "df.isnull().sum()"
   ]
  },
  {
   "cell_type": "code",
   "execution_count": 7,
   "id": "213ffe6c",
   "metadata": {},
   "outputs": [],
   "source": [
    "df.dropna(inplace=True)"
   ]
  },
  {
   "cell_type": "code",
   "execution_count": 8,
   "id": "b0789d7f",
   "metadata": {},
   "outputs": [
    {
     "data": {
      "text/plain": [
       "(18009, 10)"
      ]
     },
     "execution_count": 8,
     "metadata": {},
     "output_type": "execute_result"
    }
   ],
   "source": [
    "df.shape"
   ]
  },
  {
   "cell_type": "code",
   "execution_count": 9,
   "id": "88b305b0",
   "metadata": {},
   "outputs": [
    {
     "name": "stdout",
     "output_type": "stream",
     "text": [
      "<class 'pandas.core.frame.DataFrame'>\n",
      "Int64Index: 18009 entries, 0 to 24048\n",
      "Data columns (total 10 columns):\n",
      " #   Column        Non-Null Count  Dtype  \n",
      "---  ------        --------------  -----  \n",
      " 0   team_1        18009 non-null  object \n",
      " 1   team_2        18009 non-null  object \n",
      " 2   runs_left     18009 non-null  int64  \n",
      " 3   balls_left    18009 non-null  int64  \n",
      " 4   wickets_left  18009 non-null  int64  \n",
      " 5   Targets       18009 non-null  int64  \n",
      " 6   crr           18009 non-null  float64\n",
      " 7   rrr           18009 non-null  float64\n",
      " 8   last_five     18009 non-null  float64\n",
      " 9   win           18009 non-null  int64  \n",
      "dtypes: float64(3), int64(5), object(2)\n",
      "memory usage: 1.5+ MB\n"
     ]
    }
   ],
   "source": [
    "df.info()"
   ]
  },
  {
   "cell_type": "code",
   "execution_count": 10,
   "id": "c9d181c0",
   "metadata": {},
   "outputs": [],
   "source": [
    "df = df.sample(df.shape[0])"
   ]
  },
  {
   "cell_type": "code",
   "execution_count": 11,
   "id": "653db953",
   "metadata": {},
   "outputs": [
    {
     "data": {
      "text/html": [
       "<div>\n",
       "<style scoped>\n",
       "    .dataframe tbody tr th:only-of-type {\n",
       "        vertical-align: middle;\n",
       "    }\n",
       "\n",
       "    .dataframe tbody tr th {\n",
       "        vertical-align: top;\n",
       "    }\n",
       "\n",
       "    .dataframe thead th {\n",
       "        text-align: right;\n",
       "    }\n",
       "</style>\n",
       "<table border=\"1\" class=\"dataframe\">\n",
       "  <thead>\n",
       "    <tr style=\"text-align: right;\">\n",
       "      <th></th>\n",
       "      <th>team_1</th>\n",
       "      <th>team_2</th>\n",
       "      <th>runs_left</th>\n",
       "      <th>balls_left</th>\n",
       "      <th>wickets_left</th>\n",
       "      <th>Targets</th>\n",
       "      <th>crr</th>\n",
       "      <th>rrr</th>\n",
       "      <th>last_five</th>\n",
       "      <th>win</th>\n",
       "    </tr>\n",
       "  </thead>\n",
       "  <tbody>\n",
       "    <tr>\n",
       "      <th>2114</th>\n",
       "      <td>Karachi Kings</td>\n",
       "      <td>Quetta Gladiators</td>\n",
       "      <td>39</td>\n",
       "      <td>22</td>\n",
       "      <td>4</td>\n",
       "      <td>149</td>\n",
       "      <td>6.346154</td>\n",
       "      <td>10.636364</td>\n",
       "      <td>53.0</td>\n",
       "      <td>0</td>\n",
       "    </tr>\n",
       "    <tr>\n",
       "      <th>1081</th>\n",
       "      <td>Peshawar Zalmi</td>\n",
       "      <td>Islamabad United</td>\n",
       "      <td>29</td>\n",
       "      <td>21</td>\n",
       "      <td>8</td>\n",
       "      <td>190</td>\n",
       "      <td>9.200000</td>\n",
       "      <td>8.285714</td>\n",
       "      <td>33.0</td>\n",
       "      <td>0</td>\n",
       "    </tr>\n",
       "    <tr>\n",
       "      <th>7923</th>\n",
       "      <td>Lahore Qalandars</td>\n",
       "      <td>Quetta Gladiators</td>\n",
       "      <td>105</td>\n",
       "      <td>76</td>\n",
       "      <td>9</td>\n",
       "      <td>201</td>\n",
       "      <td>11.520000</td>\n",
       "      <td>8.289474</td>\n",
       "      <td>24.0</td>\n",
       "      <td>1</td>\n",
       "    </tr>\n",
       "    <tr>\n",
       "      <th>21197</th>\n",
       "      <td>Peshawar Zalmi</td>\n",
       "      <td>Karachi Kings</td>\n",
       "      <td>143</td>\n",
       "      <td>89</td>\n",
       "      <td>8</td>\n",
       "      <td>173</td>\n",
       "      <td>4.864865</td>\n",
       "      <td>9.640449</td>\n",
       "      <td>40.0</td>\n",
       "      <td>0</td>\n",
       "    </tr>\n",
       "    <tr>\n",
       "      <th>2225</th>\n",
       "      <td>Multan Sultans</td>\n",
       "      <td>Lahore Qalandars</td>\n",
       "      <td>58</td>\n",
       "      <td>35</td>\n",
       "      <td>7</td>\n",
       "      <td>179</td>\n",
       "      <td>7.978022</td>\n",
       "      <td>9.942857</td>\n",
       "      <td>35.0</td>\n",
       "      <td>0</td>\n",
       "    </tr>\n",
       "  </tbody>\n",
       "</table>\n",
       "</div>"
      ],
      "text/plain": [
       "                 team_1             team_2  runs_left  balls_left  \\\n",
       "2114      Karachi Kings  Quetta Gladiators         39          22   \n",
       "1081     Peshawar Zalmi   Islamabad United         29          21   \n",
       "7923   Lahore Qalandars  Quetta Gladiators        105          76   \n",
       "21197    Peshawar Zalmi      Karachi Kings        143          89   \n",
       "2225     Multan Sultans   Lahore Qalandars         58          35   \n",
       "\n",
       "       wickets_left  Targets        crr        rrr  last_five  win  \n",
       "2114              4      149   6.346154  10.636364       53.0    0  \n",
       "1081              8      190   9.200000   8.285714       33.0    0  \n",
       "7923              9      201  11.520000   8.289474       24.0    1  \n",
       "21197             8      173   4.864865   9.640449       40.0    0  \n",
       "2225              7      179   7.978022   9.942857       35.0    0  "
      ]
     },
     "execution_count": 11,
     "metadata": {},
     "output_type": "execute_result"
    }
   ],
   "source": [
    "df.head()"
   ]
  },
  {
   "cell_type": "code",
   "execution_count": 12,
   "id": "5b7c6b21",
   "metadata": {},
   "outputs": [],
   "source": [
    "X = df.iloc[:,:-1]\n",
    "y = df.iloc[:,-1]"
   ]
  },
  {
   "cell_type": "code",
   "execution_count": 13,
   "id": "2aacbec1",
   "metadata": {},
   "outputs": [],
   "source": [
    "from sklearn.model_selection import train_test_split\n",
    "X_train,X_test,y_train,y_test = train_test_split(X,y,test_size=0.1,random_state=1)\n"
   ]
  },
  {
   "cell_type": "code",
   "execution_count": 14,
   "id": "4fb61cd7",
   "metadata": {},
   "outputs": [
    {
     "data": {
      "text/html": [
       "<div>\n",
       "<style scoped>\n",
       "    .dataframe tbody tr th:only-of-type {\n",
       "        vertical-align: middle;\n",
       "    }\n",
       "\n",
       "    .dataframe tbody tr th {\n",
       "        vertical-align: top;\n",
       "    }\n",
       "\n",
       "    .dataframe thead th {\n",
       "        text-align: right;\n",
       "    }\n",
       "</style>\n",
       "<table border=\"1\" class=\"dataframe\">\n",
       "  <thead>\n",
       "    <tr style=\"text-align: right;\">\n",
       "      <th></th>\n",
       "      <th>team_1</th>\n",
       "      <th>team_2</th>\n",
       "      <th>runs_left</th>\n",
       "      <th>balls_left</th>\n",
       "      <th>wickets_left</th>\n",
       "      <th>Targets</th>\n",
       "      <th>crr</th>\n",
       "      <th>rrr</th>\n",
       "      <th>last_five</th>\n",
       "    </tr>\n",
       "  </thead>\n",
       "  <tbody>\n",
       "    <tr>\n",
       "      <th>7461</th>\n",
       "      <td>Karachi Kings</td>\n",
       "      <td>Quetta Gladiators</td>\n",
       "      <td>60</td>\n",
       "      <td>70</td>\n",
       "      <td>8</td>\n",
       "      <td>126</td>\n",
       "      <td>7.071429</td>\n",
       "      <td>5.142857</td>\n",
       "      <td>45.0</td>\n",
       "    </tr>\n",
       "    <tr>\n",
       "      <th>10224</th>\n",
       "      <td>Peshawar Zalmi</td>\n",
       "      <td>Karachi Kings</td>\n",
       "      <td>50</td>\n",
       "      <td>23</td>\n",
       "      <td>5</td>\n",
       "      <td>181</td>\n",
       "      <td>7.631068</td>\n",
       "      <td>13.043478</td>\n",
       "      <td>48.0</td>\n",
       "    </tr>\n",
       "    <tr>\n",
       "      <th>21733</th>\n",
       "      <td>Lahore Qalandars</td>\n",
       "      <td>Quetta Gladiators</td>\n",
       "      <td>77</td>\n",
       "      <td>47</td>\n",
       "      <td>9</td>\n",
       "      <td>204</td>\n",
       "      <td>9.645570</td>\n",
       "      <td>9.829787</td>\n",
       "      <td>53.0</td>\n",
       "    </tr>\n",
       "    <tr>\n",
       "      <th>3189</th>\n",
       "      <td>Peshawar Zalmi</td>\n",
       "      <td>Quetta Gladiators</td>\n",
       "      <td>96</td>\n",
       "      <td>84</td>\n",
       "      <td>8</td>\n",
       "      <td>155</td>\n",
       "      <td>8.428571</td>\n",
       "      <td>6.857143</td>\n",
       "      <td>41.0</td>\n",
       "    </tr>\n",
       "    <tr>\n",
       "      <th>14529</th>\n",
       "      <td>Multan Sultans</td>\n",
       "      <td>Quetta Gladiators</td>\n",
       "      <td>26</td>\n",
       "      <td>33</td>\n",
       "      <td>8</td>\n",
       "      <td>121</td>\n",
       "      <td>6.129032</td>\n",
       "      <td>4.727273</td>\n",
       "      <td>48.0</td>\n",
       "    </tr>\n",
       "    <tr>\n",
       "      <th>...</th>\n",
       "      <td>...</td>\n",
       "      <td>...</td>\n",
       "      <td>...</td>\n",
       "      <td>...</td>\n",
       "      <td>...</td>\n",
       "      <td>...</td>\n",
       "      <td>...</td>\n",
       "      <td>...</td>\n",
       "      <td>...</td>\n",
       "    </tr>\n",
       "    <tr>\n",
       "      <th>4680</th>\n",
       "      <td>Lahore Qalandars</td>\n",
       "      <td>Islamabad United</td>\n",
       "      <td>23</td>\n",
       "      <td>20</td>\n",
       "      <td>2</td>\n",
       "      <td>182</td>\n",
       "      <td>9.000000</td>\n",
       "      <td>6.900000</td>\n",
       "      <td>20.0</td>\n",
       "    </tr>\n",
       "    <tr>\n",
       "      <th>1679</th>\n",
       "      <td>Quetta Gladiators</td>\n",
       "      <td>Islamabad United</td>\n",
       "      <td>129</td>\n",
       "      <td>97</td>\n",
       "      <td>10</td>\n",
       "      <td>148</td>\n",
       "      <td>3.931034</td>\n",
       "      <td>7.979381</td>\n",
       "      <td>71.0</td>\n",
       "    </tr>\n",
       "    <tr>\n",
       "      <th>22503</th>\n",
       "      <td>Peshawar Zalmi</td>\n",
       "      <td>Quetta Gladiators</td>\n",
       "      <td>171</td>\n",
       "      <td>112</td>\n",
       "      <td>10</td>\n",
       "      <td>185</td>\n",
       "      <td>6.000000</td>\n",
       "      <td>9.160714</td>\n",
       "      <td>51.0</td>\n",
       "    </tr>\n",
       "    <tr>\n",
       "      <th>16633</th>\n",
       "      <td>Islamabad United</td>\n",
       "      <td>Lahore Qalandars</td>\n",
       "      <td>163</td>\n",
       "      <td>85</td>\n",
       "      <td>8</td>\n",
       "      <td>198</td>\n",
       "      <td>5.121951</td>\n",
       "      <td>11.505882</td>\n",
       "      <td>51.0</td>\n",
       "    </tr>\n",
       "    <tr>\n",
       "      <th>23744</th>\n",
       "      <td>Peshawar Zalmi</td>\n",
       "      <td>Islamabad United</td>\n",
       "      <td>91</td>\n",
       "      <td>57</td>\n",
       "      <td>8</td>\n",
       "      <td>169</td>\n",
       "      <td>6.782609</td>\n",
       "      <td>9.578947</td>\n",
       "      <td>33.0</td>\n",
       "    </tr>\n",
       "  </tbody>\n",
       "</table>\n",
       "<p>16208 rows × 9 columns</p>\n",
       "</div>"
      ],
      "text/plain": [
       "                  team_1             team_2  runs_left  balls_left  \\\n",
       "7461       Karachi Kings  Quetta Gladiators         60          70   \n",
       "10224     Peshawar Zalmi      Karachi Kings         50          23   \n",
       "21733   Lahore Qalandars  Quetta Gladiators         77          47   \n",
       "3189      Peshawar Zalmi  Quetta Gladiators         96          84   \n",
       "14529     Multan Sultans  Quetta Gladiators         26          33   \n",
       "...                  ...                ...        ...         ...   \n",
       "4680    Lahore Qalandars   Islamabad United         23          20   \n",
       "1679   Quetta Gladiators   Islamabad United        129          97   \n",
       "22503     Peshawar Zalmi  Quetta Gladiators        171         112   \n",
       "16633   Islamabad United   Lahore Qalandars        163          85   \n",
       "23744     Peshawar Zalmi   Islamabad United         91          57   \n",
       "\n",
       "       wickets_left  Targets       crr        rrr  last_five  \n",
       "7461              8      126  7.071429   5.142857       45.0  \n",
       "10224             5      181  7.631068  13.043478       48.0  \n",
       "21733             9      204  9.645570   9.829787       53.0  \n",
       "3189              8      155  8.428571   6.857143       41.0  \n",
       "14529             8      121  6.129032   4.727273       48.0  \n",
       "...             ...      ...       ...        ...        ...  \n",
       "4680              2      182  9.000000   6.900000       20.0  \n",
       "1679             10      148  3.931034   7.979381       71.0  \n",
       "22503            10      185  6.000000   9.160714       51.0  \n",
       "16633             8      198  5.121951  11.505882       51.0  \n",
       "23744             8      169  6.782609   9.578947       33.0  \n",
       "\n",
       "[16208 rows x 9 columns]"
      ]
     },
     "execution_count": 14,
     "metadata": {},
     "output_type": "execute_result"
    }
   ],
   "source": [
    "X_train"
   ]
  },
  {
   "cell_type": "code",
   "execution_count": 15,
   "id": "47ae35bf",
   "metadata": {},
   "outputs": [],
   "source": [
    "from sklearn.compose import ColumnTransformer\n",
    "from sklearn.preprocessing import OneHotEncoder\n",
    "trf = ColumnTransformer([\n",
    "    ('trf',OneHotEncoder(sparse=False,drop='first'),['team_1','team_2'])\n",
    "]\n",
    ",remainder='passthrough')"
   ]
  },
  {
   "cell_type": "code",
   "execution_count": 20,
   "id": "45e64c10",
   "metadata": {},
   "outputs": [],
   "source": [
    "from sklearn.linear_model import LogisticRegression\n",
    "from sklearn import svm\n",
    "from sklearn.pipeline import Pipeline"
   ]
  },
  {
   "cell_type": "code",
   "execution_count": 21,
   "id": "07d12e4c",
   "metadata": {},
   "outputs": [],
   "source": [
    "pipe = Pipeline(steps=[\n",
    "    ('step1',trf),\n",
    "    ('step2',LogisticRegression())\n",
    "])"
   ]
  },
  {
   "cell_type": "code",
   "execution_count": 22,
   "id": "bcf23909",
   "metadata": {},
   "outputs": [
    {
     "name": "stderr",
     "output_type": "stream",
     "text": [
      "C:\\Users\\UC\\anaconda3\\lib\\site-packages\\sklearn\\linear_model\\_logistic.py:814: ConvergenceWarning: lbfgs failed to converge (status=1):\n",
      "STOP: TOTAL NO. of ITERATIONS REACHED LIMIT.\n",
      "\n",
      "Increase the number of iterations (max_iter) or scale the data as shown in:\n",
      "    https://scikit-learn.org/stable/modules/preprocessing.html\n",
      "Please also refer to the documentation for alternative solver options:\n",
      "    https://scikit-learn.org/stable/modules/linear_model.html#logistic-regression\n",
      "  n_iter_i = _check_optimize_result(\n"
     ]
    },
    {
     "data": {
      "text/plain": [
       "Pipeline(steps=[('step1',\n",
       "                 ColumnTransformer(remainder='passthrough',\n",
       "                                   transformers=[('trf',\n",
       "                                                  OneHotEncoder(drop='first',\n",
       "                                                                sparse=False),\n",
       "                                                  ['team_1', 'team_2'])])),\n",
       "                ('step2', LogisticRegression())])"
      ]
     },
     "execution_count": 22,
     "metadata": {},
     "output_type": "execute_result"
    }
   ],
   "source": [
    "pipe.fit(X_train,y_train)"
   ]
  },
  {
   "cell_type": "code",
   "execution_count": 28,
   "id": "b9a3194a",
   "metadata": {},
   "outputs": [
    {
     "data": {
      "text/plain": [
       "Pipeline(steps=[('step1',\n",
       "                 ColumnTransformer(remainder='passthrough',\n",
       "                                   transformers=[('trf',\n",
       "                                                  OneHotEncoder(drop='first',\n",
       "                                                                sparse=False),\n",
       "                                                  ['team_1', 'team_2'])])),\n",
       "                ('step2', SVC(probability=True))])"
      ]
     },
     "execution_count": 28,
     "metadata": {},
     "output_type": "execute_result"
    }
   ],
   "source": [
    "pipe2 = Pipeline(steps=[\n",
    "    ('step1',trf),\n",
    "    ('step2',svm.SVC(probability=True))\n",
    "])\n",
    "pipe2.fit(X_train,y_train)"
   ]
  },
  {
   "cell_type": "code",
   "execution_count": 29,
   "id": "fec4e3c8",
   "metadata": {},
   "outputs": [],
   "source": [
    "y_pred = pipe2.predict(X_test)"
   ]
  },
  {
   "cell_type": "code",
   "execution_count": 30,
   "id": "fe7eb2d7",
   "metadata": {},
   "outputs": [
    {
     "data": {
      "text/plain": [
       "0.8017767906718489"
      ]
     },
     "execution_count": 30,
     "metadata": {},
     "output_type": "execute_result"
    }
   ],
   "source": [
    "from sklearn.metrics import accuracy_score\n",
    "accuracy_score(y_test,y_pred)"
   ]
  },
  {
   "cell_type": "code",
   "execution_count": 31,
   "id": "d49c1d64",
   "metadata": {},
   "outputs": [
    {
     "data": {
      "text/plain": [
       "array([0.076632, 0.923368])"
      ]
     },
     "execution_count": 31,
     "metadata": {},
     "output_type": "execute_result"
    }
   ],
   "source": [
    "pipe2.predict_proba(X_test)[11]"
   ]
  },
  {
   "cell_type": "code",
   "execution_count": null,
   "id": "0f3e3432",
   "metadata": {},
   "outputs": [],
   "source": [
    "import pickle"
   ]
  },
  {
   "cell_type": "code",
   "execution_count": null,
   "id": "ea034a42",
   "metadata": {},
   "outputs": [],
   "source": [
    "#pickle.dump(pipe,open('piperesult.pkl','wb'))"
   ]
  },
  {
   "cell_type": "code",
   "execution_count": null,
   "id": "1e89f205",
   "metadata": {},
   "outputs": [],
   "source": []
  }
 ],
 "metadata": {
  "kernelspec": {
   "display_name": "Python 3 (ipykernel)",
   "language": "python",
   "name": "python3"
  },
  "language_info": {
   "codemirror_mode": {
    "name": "ipython",
    "version": 3
   },
   "file_extension": ".py",
   "mimetype": "text/x-python",
   "name": "python",
   "nbconvert_exporter": "python",
   "pygments_lexer": "ipython3",
   "version": "3.9.12"
  }
 },
 "nbformat": 4,
 "nbformat_minor": 5
}
